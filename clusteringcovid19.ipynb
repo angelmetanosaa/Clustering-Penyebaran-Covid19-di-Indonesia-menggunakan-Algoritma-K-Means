{
  "nbformat": 4,
  "nbformat_minor": 0,
  "metadata": {
    "colab": {
      "name": "UAS DAMIN 2020",
      "provenance": [],
      "collapsed_sections": []
    },
    "kernelspec": {
      "name": "python3",
      "display_name": "Python 3"
    }
  },
  "cells": [
    {
      "cell_type": "code",
      "metadata": {
        "id": "z-BTodnFHbQ5",
        "colab_type": "code",
        "colab": {}
      },
      "source": [
        "import matplotlib.pyplot as plt\n",
        "from sklearn.cluster import KMeans\n",
        "import pandas as pd\n",
        "import numpy as np\n",
        "from sklearn import metrics\n",
        "from sklearn.preprocessing import MinMaxScaler"
      ],
      "execution_count": null,
      "outputs": []
    },
    {
      "cell_type": "code",
      "metadata": {
        "id": "lKoknatSIVLV",
        "colab_type": "code",
        "colab": {
          "resources": {
            "http://localhost:8080/nbextensions/google.colab/files.js": {
              "data": "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",
              "ok": true,
              "headers": [
                [
                  "content-type",
                  "application/javascript"
                ]
              ],
              "status": 200,
              "status_text": ""
            }
          },
          "base_uri": "https://localhost:8080/",
          "height": 74
        },
        "outputId": "f3b7091e-35f9-492b-9a39-76e2e8589d57"
      },
      "source": [
        "#import library upload file pada google colab\n",
        "from google.colab import files\n",
        "#mengupload file\n",
        "dataupload = files.upload()"
      ],
      "execution_count": null,
      "outputs": [
        {
          "output_type": "display_data",
          "data": {
            "text/html": [
              "\n",
              "     <input type=\"file\" id=\"files-a750542a-184a-4a92-9f40-abb35cbf5953\" name=\"files[]\" multiple disabled />\n",
              "     <output id=\"result-a750542a-184a-4a92-9f40-abb35cbf5953\">\n",
              "      Upload widget is only available when the cell has been executed in the\n",
              "      current browser session. Please rerun this cell to enable.\n",
              "      </output>\n",
              "      <script src=\"/nbextensions/google.colab/files.js\"></script> "
            ],
            "text/plain": [
              "<IPython.core.display.HTML object>"
            ]
          },
          "metadata": {
            "tags": []
          }
        },
        {
          "output_type": "stream",
          "text": [
            "Saving covid19.xlsx to covid19.xlsx\n"
          ],
          "name": "stdout"
        }
      ]
    },
    {
      "cell_type": "code",
      "metadata": {
        "id": "jecc7FpAIcJV",
        "colab_type": "code",
        "colab": {
          "base_uri": "https://localhost:8080/",
          "height": 204
        },
        "outputId": "c23666c5-f6a7-44c9-f4dd-af6f3f8652ab"
      },
      "source": [
        "#import io untuk membaca dataset yang telah diupload\n",
        "import io\n",
        "#membaca data csv yang telah diupload dengan nama covid19\n",
        "import pandas as pd\n",
        "df = pd.read_excel(io.BytesIO(dataupload['covid19.xlsx']))\n",
        "#menampilkan data yang telah dibaca\n",
        "df.head()"
      ],
      "execution_count": null,
      "outputs": [
        {
          "output_type": "execute_result",
          "data": {
            "text/html": [
              "<div>\n",
              "<style scoped>\n",
              "    .dataframe tbody tr th:only-of-type {\n",
              "        vertical-align: middle;\n",
              "    }\n",
              "\n",
              "    .dataframe tbody tr th {\n",
              "        vertical-align: top;\n",
              "    }\n",
              "\n",
              "    .dataframe thead th {\n",
              "        text-align: right;\n",
              "    }\n",
              "</style>\n",
              "<table border=\"1\" class=\"dataframe\">\n",
              "  <thead>\n",
              "    <tr style=\"text-align: right;\">\n",
              "      <th></th>\n",
              "      <th>Lokasi</th>\n",
              "      <th>Lat</th>\n",
              "      <th>long</th>\n",
              "      <th>Dikonfirmasi</th>\n",
              "      <th>Sembuh</th>\n",
              "      <th>Meninggal Dunia</th>\n",
              "    </tr>\n",
              "  </thead>\n",
              "  <tbody>\n",
              "    <tr>\n",
              "      <th>0</th>\n",
              "      <td>Aceh</td>\n",
              "      <td>4695135.0</td>\n",
              "      <td>96749397</td>\n",
              "      <td>7</td>\n",
              "      <td>4</td>\n",
              "      <td>1</td>\n",
              "    </tr>\n",
              "    <tr>\n",
              "      <th>1</th>\n",
              "      <td>Jakarta</td>\n",
              "      <td>-6.2</td>\n",
              "      <td>106816666</td>\n",
              "      <td>3260</td>\n",
              "      <td>286</td>\n",
              "      <td>298</td>\n",
              "    </tr>\n",
              "    <tr>\n",
              "      <th>2</th>\n",
              "      <td>West Java</td>\n",
              "      <td>-6914864.0</td>\n",
              "      <td>107608238</td>\n",
              "      <td>756</td>\n",
              "      <td>75</td>\n",
              "      <td>68</td>\n",
              "    </tr>\n",
              "    <tr>\n",
              "      <th>3</th>\n",
              "      <td>East Java</td>\n",
              "      <td>-7250445.0</td>\n",
              "      <td>112768845</td>\n",
              "      <td>603</td>\n",
              "      <td>101</td>\n",
              "      <td>58</td>\n",
              "    </tr>\n",
              "    <tr>\n",
              "      <th>4</th>\n",
              "      <td>Central Java</td>\n",
              "      <td>-6966667.0</td>\n",
              "      <td>110416664</td>\n",
              "      <td>449</td>\n",
              "      <td>51</td>\n",
              "      <td>44</td>\n",
              "    </tr>\n",
              "  </tbody>\n",
              "</table>\n",
              "</div>"
            ],
            "text/plain": [
              "         Lokasi        Lat       long  Dikonfirmasi  Sembuh  Meninggal Dunia\n",
              "0          Aceh  4695135.0   96749397             7       4                1\n",
              "1       Jakarta       -6.2  106816666          3260     286              298\n",
              "2     West Java -6914864.0  107608238           756      75               68\n",
              "3     East Java -7250445.0  112768845           603     101               58\n",
              "4  Central Java -6966667.0  110416664           449      51               44"
            ]
          },
          "metadata": {
            "tags": []
          },
          "execution_count": 3
        }
      ]
    },
    {
      "cell_type": "code",
      "metadata": {
        "id": "cYCZo_if-nTX",
        "colab_type": "code",
        "colab": {
          "base_uri": "https://localhost:8080/",
          "height": 238
        },
        "outputId": "a85f9957-c010-42f8-824a-8ad4c8448af7"
      },
      "source": [
        "df.info()"
      ],
      "execution_count": null,
      "outputs": [
        {
          "output_type": "stream",
          "text": [
            "<class 'pandas.core.frame.DataFrame'>\n",
            "RangeIndex: 34 entries, 0 to 33\n",
            "Data columns (total 6 columns):\n",
            " #   Column           Non-Null Count  Dtype  \n",
            "---  ------           --------------  -----  \n",
            " 0   Lokasi           34 non-null     object \n",
            " 1   Lat              34 non-null     float64\n",
            " 2   long             34 non-null     int64  \n",
            " 3   Dikonfirmasi     34 non-null     int64  \n",
            " 4   Sembuh           34 non-null     int64  \n",
            " 5   Meninggal Dunia  34 non-null     int64  \n",
            "dtypes: float64(1), int64(4), object(1)\n",
            "memory usage: 1.7+ KB\n"
          ],
          "name": "stdout"
        }
      ]
    },
    {
      "cell_type": "code",
      "metadata": {
        "id": "98Vj05r3-wC3",
        "colab_type": "code",
        "colab": {}
      },
      "source": [
        "del df['Lokasi']"
      ],
      "execution_count": null,
      "outputs": []
    },
    {
      "cell_type": "code",
      "metadata": {
        "id": "uRKh8jR1-11Z",
        "colab_type": "code",
        "colab": {
          "base_uri": "https://localhost:8080/",
          "height": 204
        },
        "outputId": "97b3d0b1-f250-420d-8874-4ea800cf708b"
      },
      "source": [
        "df.head()"
      ],
      "execution_count": null,
      "outputs": [
        {
          "output_type": "execute_result",
          "data": {
            "text/html": [
              "<div>\n",
              "<style scoped>\n",
              "    .dataframe tbody tr th:only-of-type {\n",
              "        vertical-align: middle;\n",
              "    }\n",
              "\n",
              "    .dataframe tbody tr th {\n",
              "        vertical-align: top;\n",
              "    }\n",
              "\n",
              "    .dataframe thead th {\n",
              "        text-align: right;\n",
              "    }\n",
              "</style>\n",
              "<table border=\"1\" class=\"dataframe\">\n",
              "  <thead>\n",
              "    <tr style=\"text-align: right;\">\n",
              "      <th></th>\n",
              "      <th>Lat</th>\n",
              "      <th>long</th>\n",
              "      <th>Dikonfirmasi</th>\n",
              "      <th>Sembuh</th>\n",
              "      <th>Meninggal Dunia</th>\n",
              "    </tr>\n",
              "  </thead>\n",
              "  <tbody>\n",
              "    <tr>\n",
              "      <th>0</th>\n",
              "      <td>4695135.0</td>\n",
              "      <td>96749397</td>\n",
              "      <td>7</td>\n",
              "      <td>4</td>\n",
              "      <td>1</td>\n",
              "    </tr>\n",
              "    <tr>\n",
              "      <th>1</th>\n",
              "      <td>-6.2</td>\n",
              "      <td>106816666</td>\n",
              "      <td>3260</td>\n",
              "      <td>286</td>\n",
              "      <td>298</td>\n",
              "    </tr>\n",
              "    <tr>\n",
              "      <th>2</th>\n",
              "      <td>-6914864.0</td>\n",
              "      <td>107608238</td>\n",
              "      <td>756</td>\n",
              "      <td>75</td>\n",
              "      <td>68</td>\n",
              "    </tr>\n",
              "    <tr>\n",
              "      <th>3</th>\n",
              "      <td>-7250445.0</td>\n",
              "      <td>112768845</td>\n",
              "      <td>603</td>\n",
              "      <td>101</td>\n",
              "      <td>58</td>\n",
              "    </tr>\n",
              "    <tr>\n",
              "      <th>4</th>\n",
              "      <td>-6966667.0</td>\n",
              "      <td>110416664</td>\n",
              "      <td>449</td>\n",
              "      <td>51</td>\n",
              "      <td>44</td>\n",
              "    </tr>\n",
              "  </tbody>\n",
              "</table>\n",
              "</div>"
            ],
            "text/plain": [
              "         Lat       long  Dikonfirmasi  Sembuh  Meninggal Dunia\n",
              "0  4695135.0   96749397             7       4                1\n",
              "1       -6.2  106816666          3260     286              298\n",
              "2 -6914864.0  107608238           756      75               68\n",
              "3 -7250445.0  112768845           603     101               58\n",
              "4 -6966667.0  110416664           449      51               44"
            ]
          },
          "metadata": {
            "tags": []
          },
          "execution_count": 6
        }
      ]
    },
    {
      "cell_type": "code",
      "metadata": {
        "id": "t3FcoZ-__K65",
        "colab_type": "code",
        "colab": {}
      },
      "source": [
        "#Scaling menggunakan minmax\n",
        "mms = MinMaxScaler()\n",
        "dfnew = mms.fit_transform(df)\n",
        "dfnew = pd.DataFrame(dfnew,columns=df.columns)"
      ],
      "execution_count": null,
      "outputs": []
    },
    {
      "cell_type": "code",
      "metadata": {
        "id": "J1Qts68m_SW7",
        "colab_type": "code",
        "colab": {
          "base_uri": "https://localhost:8080/",
          "height": 204
        },
        "outputId": "0f2c9fdc-a496-4272-8263-6bf6992a1c2f"
      },
      "source": [
        "dfnew.head()"
      ],
      "execution_count": null,
      "outputs": [
        {
          "output_type": "execute_result",
          "data": {
            "text/html": [
              "<div>\n",
              "<style scoped>\n",
              "    .dataframe tbody tr th:only-of-type {\n",
              "        vertical-align: middle;\n",
              "    }\n",
              "\n",
              "    .dataframe tbody tr th {\n",
              "        vertical-align: top;\n",
              "    }\n",
              "\n",
              "    .dataframe thead th {\n",
              "        text-align: right;\n",
              "    }\n",
              "</style>\n",
              "<table border=\"1\" class=\"dataframe\">\n",
              "  <thead>\n",
              "    <tr style=\"text-align: right;\">\n",
              "      <th></th>\n",
              "      <th>Lat</th>\n",
              "      <th>long</th>\n",
              "      <th>Dikonfirmasi</th>\n",
              "      <th>Sembuh</th>\n",
              "      <th>Meninggal Dunia</th>\n",
              "    </tr>\n",
              "  </thead>\n",
              "  <tbody>\n",
              "    <tr>\n",
              "      <th>0</th>\n",
              "      <td>1.000000</td>\n",
              "      <td>0.685145</td>\n",
              "      <td>0.001841</td>\n",
              "      <td>0.013986</td>\n",
              "      <td>0.003356</td>\n",
              "    </tr>\n",
              "    <tr>\n",
              "      <th>1</th>\n",
              "      <td>0.684337</td>\n",
              "      <td>0.757309</td>\n",
              "      <td>1.000000</td>\n",
              "      <td>1.000000</td>\n",
              "      <td>1.000000</td>\n",
              "    </tr>\n",
              "    <tr>\n",
              "      <th>2</th>\n",
              "      <td>0.219438</td>\n",
              "      <td>0.762984</td>\n",
              "      <td>0.231666</td>\n",
              "      <td>0.262238</td>\n",
              "      <td>0.228188</td>\n",
              "    </tr>\n",
              "    <tr>\n",
              "      <th>3</th>\n",
              "      <td>0.196876</td>\n",
              "      <td>0.799976</td>\n",
              "      <td>0.184719</td>\n",
              "      <td>0.353147</td>\n",
              "      <td>0.194631</td>\n",
              "    </tr>\n",
              "    <tr>\n",
              "      <th>4</th>\n",
              "      <td>0.215955</td>\n",
              "      <td>0.783115</td>\n",
              "      <td>0.137465</td>\n",
              "      <td>0.178322</td>\n",
              "      <td>0.147651</td>\n",
              "    </tr>\n",
              "  </tbody>\n",
              "</table>\n",
              "</div>"
            ],
            "text/plain": [
              "        Lat      long  Dikonfirmasi    Sembuh  Meninggal Dunia\n",
              "0  1.000000  0.685145      0.001841  0.013986         0.003356\n",
              "1  0.684337  0.757309      1.000000  1.000000         1.000000\n",
              "2  0.219438  0.762984      0.231666  0.262238         0.228188\n",
              "3  0.196876  0.799976      0.184719  0.353147         0.194631\n",
              "4  0.215955  0.783115      0.137465  0.178322         0.147651"
            ]
          },
          "metadata": {
            "tags": []
          },
          "execution_count": 8
        }
      ]
    },
    {
      "cell_type": "code",
      "metadata": {
        "id": "XprsSFx4p5J-",
        "colab_type": "code",
        "colab": {
          "base_uri": "https://localhost:8080/",
          "height": 295
        },
        "outputId": "059accbe-b2a0-4a2e-84e6-608ff58186bb"
      },
      "source": [
        "#menggunakan elbow method untuk menemukan nomor cluster yang optimal menggunakan sklearn libraries\n",
        "#import library\n",
        "from sklearn.cluster import KMeans\n",
        "#membuat array dengan nama wcss\n",
        "wcss = []\n",
        "#melakukan perulangan dari 1 sampai 11\n",
        "for i in range(1, 11):\n",
        "    #membuat nama variabel = kmeans yang mendeskripsikan jumlah cluster, perulangan k-means, dan random statenya\n",
        "    kmeans = KMeans(n_clusters = i, init = 'k-means++', random_state = 100)\n",
        "    kmeans.fit(df)\n",
        "    wcss.append(kmeans.inertia_)\n",
        "#menampilkan plot wcss\n",
        "\n",
        "plt.plot(range(1, 11), wcss)\n",
        "#memberikan label plot dengan judul The Elbow Method\n",
        "plt.title('The Elbow Method')\n",
        "#memberikan label x dengan nama Number of clusters\n",
        "plt.xlabel('Number of clusters')\n",
        "#memberikan label y dengan nama WCSS\n",
        "plt.ylabel('WCSS')\n",
        "#menampilkan plot\n",
        "plt.show()"
      ],
      "execution_count": null,
      "outputs": [
        {
          "output_type": "display_data",
          "data": {
            "image/png": "[encoded data removed]",
            "text/plain": [
              "<Figure size 432x288 with 1 Axes>"
            ]
          },
          "metadata": {
            "tags": [],
            "needs_background": "light"
          }
        }
      ]
    },
    {
      "cell_type": "code",
      "metadata": {
        "id": "2peOfwO2_a5Q",
        "colab_type": "code",
        "colab": {}
      },
      "source": [
        "df2 = pd.DataFrame(dfnew)"
      ],
      "execution_count": null,
      "outputs": []
    },
    {
      "cell_type": "code",
      "metadata": {
        "id": "upNNPrzIrKQE",
        "colab_type": "code",
        "colab": {}
      },
      "source": [
        "clustering_kmeans = KMeans(n_clusters=2)\n",
        "df2['cluster'] = clustering_kmeans.fit_predict(df2)"
      ],
      "execution_count": null,
      "outputs": []
    },
    {
      "cell_type": "code",
      "metadata": {
        "id": "zrSkL35y_pWd",
        "colab_type": "code",
        "colab": {}
      },
      "source": [
        "cluster_df_2c = df2['cluster']"
      ],
      "execution_count": null,
      "outputs": []
    },
    {
      "cell_type": "code",
      "metadata": {
        "id": "qZ-1KmSv_vsg",
        "colab_type": "code",
        "colab": {}
      },
      "source": [
        "df2.loc[df2['cluster'] == 0, 'color'] = 'r'\n",
        "df2.loc[df2['cluster'] == 1, 'color'] = 'g'"
      ],
      "execution_count": null,
      "outputs": []
    },
    {
      "cell_type": "code",
      "metadata": {
        "id": "oohgslWeoAdi",
        "colab_type": "code",
        "colab": {
          "base_uri": "https://localhost:8080/",
          "height": 1000
        },
        "outputId": "3d5a2f38-3053-4892-a407-cebbb1791139"
      },
      "source": [
        "df2"
      ],
      "execution_count": null,
      "outputs": [
        {
          "output_type": "execute_result",
          "data": {
            "text/html": [
              "<div>\n",
              "<style scoped>\n",
              "    .dataframe tbody tr th:only-of-type {\n",
              "        vertical-align: middle;\n",
              "    }\n",
              "\n",
              "    .dataframe tbody tr th {\n",
              "        vertical-align: top;\n",
              "    }\n",
              "\n",
              "    .dataframe thead th {\n",
              "        text-align: right;\n",
              "    }\n",
              "</style>\n",
              "<table border=\"1\" class=\"dataframe\">\n",
              "  <thead>\n",
              "    <tr style=\"text-align: right;\">\n",
              "      <th></th>\n",
              "      <th>Lat</th>\n",
              "      <th>long</th>\n",
              "      <th>Dikonfirmasi</th>\n",
              "      <th>Sembuh</th>\n",
              "      <th>Meninggal Dunia</th>\n",
              "      <th>cluster</th>\n",
              "      <th>color</th>\n",
              "    </tr>\n",
              "  </thead>\n",
              "  <tbody>\n",
              "    <tr>\n",
              "      <th>0</th>\n",
              "      <td>1.000000</td>\n",
              "      <td>0.685145</td>\n",
              "      <td>0.001841</td>\n",
              "      <td>0.013986</td>\n",
              "      <td>0.003356</td>\n",
              "      <td>0</td>\n",
              "      <td>r</td>\n",
              "    </tr>\n",
              "    <tr>\n",
              "      <th>1</th>\n",
              "      <td>0.684337</td>\n",
              "      <td>0.757309</td>\n",
              "      <td>1.000000</td>\n",
              "      <td>1.000000</td>\n",
              "      <td>1.000000</td>\n",
              "      <td>0</td>\n",
              "      <td>r</td>\n",
              "    </tr>\n",
              "    <tr>\n",
              "      <th>2</th>\n",
              "      <td>0.219438</td>\n",
              "      <td>0.762984</td>\n",
              "      <td>0.231666</td>\n",
              "      <td>0.262238</td>\n",
              "      <td>0.228188</td>\n",
              "      <td>0</td>\n",
              "      <td>r</td>\n",
              "    </tr>\n",
              "    <tr>\n",
              "      <th>3</th>\n",
              "      <td>0.196876</td>\n",
              "      <td>0.799976</td>\n",
              "      <td>0.184719</td>\n",
              "      <td>0.353147</td>\n",
              "      <td>0.194631</td>\n",
              "      <td>0</td>\n",
              "      <td>r</td>\n",
              "    </tr>\n",
              "    <tr>\n",
              "      <th>4</th>\n",
              "      <td>0.215955</td>\n",
              "      <td>0.783115</td>\n",
              "      <td>0.137465</td>\n",
              "      <td>0.178322</td>\n",
              "      <td>0.147651</td>\n",
              "      <td>0</td>\n",
              "      <td>r</td>\n",
              "    </tr>\n",
              "    <tr>\n",
              "      <th>5</th>\n",
              "      <td>0.339075</td>\n",
              "      <td>0.077231</td>\n",
              "      <td>0.114452</td>\n",
              "      <td>0.255245</td>\n",
              "      <td>0.100671</td>\n",
              "      <td>1</td>\n",
              "      <td>g</td>\n",
              "    </tr>\n",
              "    <tr>\n",
              "      <th>6</th>\n",
              "      <td>0.684337</td>\n",
              "      <td>0.752533</td>\n",
              "      <td>0.104326</td>\n",
              "      <td>0.059441</td>\n",
              "      <td>0.117450</td>\n",
              "      <td>0</td>\n",
              "      <td>r</td>\n",
              "    </tr>\n",
              "    <tr>\n",
              "      <th>7</th>\n",
              "      <td>0.118949</td>\n",
              "      <td>0.817324</td>\n",
              "      <td>0.045720</td>\n",
              "      <td>0.146853</td>\n",
              "      <td>0.010067</td>\n",
              "      <td>0</td>\n",
              "      <td>r</td>\n",
              "    </tr>\n",
              "    <tr>\n",
              "      <th>8</th>\n",
              "      <td>0.509619</td>\n",
              "      <td>1.000000</td>\n",
              "      <td>0.035901</td>\n",
              "      <td>0.097902</td>\n",
              "      <td>0.020134</td>\n",
              "      <td>0</td>\n",
              "      <td>r</td>\n",
              "    </tr>\n",
              "    <tr>\n",
              "      <th>9</th>\n",
              "      <td>0.684337</td>\n",
              "      <td>0.831408</td>\n",
              "      <td>0.029764</td>\n",
              "      <td>0.031469</td>\n",
              "      <td>0.020134</td>\n",
              "      <td>0</td>\n",
              "      <td>r</td>\n",
              "    </tr>\n",
              "    <tr>\n",
              "      <th>10</th>\n",
              "      <td>0.107173</td>\n",
              "      <td>0.823890</td>\n",
              "      <td>0.028230</td>\n",
              "      <td>0.038462</td>\n",
              "      <td>0.013423</td>\n",
              "      <td>0</td>\n",
              "      <td>r</td>\n",
              "    </tr>\n",
              "    <tr>\n",
              "      <th>11</th>\n",
              "      <td>0.483251</td>\n",
              "      <td>0.742542</td>\n",
              "      <td>0.027002</td>\n",
              "      <td>0.017483</td>\n",
              "      <td>0.010067</td>\n",
              "      <td>0</td>\n",
              "      <td>r</td>\n",
              "    </tr>\n",
              "    <tr>\n",
              "      <th>12</th>\n",
              "      <td>0.926172</td>\n",
              "      <td>0.698973</td>\n",
              "      <td>0.025468</td>\n",
              "      <td>0.045455</td>\n",
              "      <td>0.030201</td>\n",
              "      <td>0</td>\n",
              "      <td>r</td>\n",
              "    </tr>\n",
              "    <tr>\n",
              "      <th>13</th>\n",
              "      <td>0.754637</td>\n",
              "      <td>0.737337</td>\n",
              "      <td>0.024547</td>\n",
              "      <td>0.027972</td>\n",
              "      <td>0.026846</td>\n",
              "      <td>0</td>\n",
              "      <td>r</td>\n",
              "    </tr>\n",
              "    <tr>\n",
              "      <th>14</th>\n",
              "      <td>0.870917</td>\n",
              "      <td>0.075804</td>\n",
              "      <td>0.023320</td>\n",
              "      <td>0.006993</td>\n",
              "      <td>0.003356</td>\n",
              "      <td>1</td>\n",
              "      <td>g</td>\n",
              "    </tr>\n",
              "    <tr>\n",
              "      <th>15</th>\n",
              "      <td>0.684337</td>\n",
              "      <td>0.711133</td>\n",
              "      <td>0.023013</td>\n",
              "      <td>0.045455</td>\n",
              "      <td>0.023490</td>\n",
              "      <td>0</td>\n",
              "      <td>r</td>\n",
              "    </tr>\n",
              "    <tr>\n",
              "      <th>16</th>\n",
              "      <td>0.160125</td>\n",
              "      <td>0.782784</td>\n",
              "      <td>0.021786</td>\n",
              "      <td>0.104895</td>\n",
              "      <td>0.023490</td>\n",
              "      <td>0</td>\n",
              "      <td>r</td>\n",
              "    </tr>\n",
              "    <tr>\n",
              "      <th>17</th>\n",
              "      <td>0.599263</td>\n",
              "      <td>0.000000</td>\n",
              "      <td>0.020558</td>\n",
              "      <td>0.038462</td>\n",
              "      <td>0.003356</td>\n",
              "      <td>1</td>\n",
              "      <td>g</td>\n",
              "    </tr>\n",
              "    <tr>\n",
              "      <th>18</th>\n",
              "      <td>0.669475</td>\n",
              "      <td>0.808121</td>\n",
              "      <td>0.020252</td>\n",
              "      <td>0.031469</td>\n",
              "      <td>0.013423</td>\n",
              "      <td>0</td>\n",
              "      <td>r</td>\n",
              "    </tr>\n",
              "    <tr>\n",
              "      <th>19</th>\n",
              "      <td>0.417279</td>\n",
              "      <td>0.000407</td>\n",
              "      <td>0.011046</td>\n",
              "      <td>0.013986</td>\n",
              "      <td>0.006711</td>\n",
              "      <td>1</td>\n",
              "      <td>g</td>\n",
              "    </tr>\n",
              "    <tr>\n",
              "      <th>20</th>\n",
              "      <td>0.684337</td>\n",
              "      <td>0.064338</td>\n",
              "      <td>0.010433</td>\n",
              "      <td>0.031469</td>\n",
              "      <td>0.013423</td>\n",
              "      <td>1</td>\n",
              "      <td>g</td>\n",
              "    </tr>\n",
              "    <tr>\n",
              "      <th>21</th>\n",
              "      <td>0.684337</td>\n",
              "      <td>0.077560</td>\n",
              "      <td>0.007978</td>\n",
              "      <td>0.010490</td>\n",
              "      <td>0.010067</td>\n",
              "      <td>1</td>\n",
              "      <td>g</td>\n",
              "    </tr>\n",
              "    <tr>\n",
              "      <th>22</th>\n",
              "      <td>0.352963</td>\n",
              "      <td>0.744394</td>\n",
              "      <td>0.007978</td>\n",
              "      <td>0.034965</td>\n",
              "      <td>0.016779</td>\n",
              "      <td>0</td>\n",
              "      <td>r</td>\n",
              "    </tr>\n",
              "    <tr>\n",
              "      <th>23</th>\n",
              "      <td>0.684337</td>\n",
              "      <td>0.775349</td>\n",
              "      <td>0.007978</td>\n",
              "      <td>0.024476</td>\n",
              "      <td>0.010067</td>\n",
              "      <td>0</td>\n",
              "      <td>r</td>\n",
              "    </tr>\n",
              "    <tr>\n",
              "      <th>24</th>\n",
              "      <td>0.694253</td>\n",
              "      <td>0.886519</td>\n",
              "      <td>0.005830</td>\n",
              "      <td>0.017483</td>\n",
              "      <td>0.010067</td>\n",
              "      <td>0</td>\n",
              "      <td>r</td>\n",
              "    </tr>\n",
              "    <tr>\n",
              "      <th>25</th>\n",
              "      <td>0.438625</td>\n",
              "      <td>0.910523</td>\n",
              "      <td>0.004909</td>\n",
              "      <td>0.034965</td>\n",
              "      <td>0.000000</td>\n",
              "      <td>0</td>\n",
              "      <td>r</td>\n",
              "    </tr>\n",
              "    <tr>\n",
              "      <th>26</th>\n",
              "      <td>0.576096</td>\n",
              "      <td>0.734304</td>\n",
              "      <td>0.003682</td>\n",
              "      <td>0.003497</td>\n",
              "      <td>0.000000</td>\n",
              "      <td>0</td>\n",
              "      <td>r</td>\n",
              "    </tr>\n",
              "    <tr>\n",
              "      <th>27</th>\n",
              "      <td>0.540909</td>\n",
              "      <td>0.752292</td>\n",
              "      <td>0.002148</td>\n",
              "      <td>0.006993</td>\n",
              "      <td>0.003356</td>\n",
              "      <td>0</td>\n",
              "      <td>r</td>\n",
              "    </tr>\n",
              "    <tr>\n",
              "      <th>28</th>\n",
              "      <td>0.429603</td>\n",
              "      <td>0.724693</td>\n",
              "      <td>0.002148</td>\n",
              "      <td>0.003497</td>\n",
              "      <td>0.003356</td>\n",
              "      <td>0</td>\n",
              "      <td>r</td>\n",
              "    </tr>\n",
              "    <tr>\n",
              "      <th>29</th>\n",
              "      <td>0.684337</td>\n",
              "      <td>0.869349</td>\n",
              "      <td>0.001841</td>\n",
              "      <td>0.000000</td>\n",
              "      <td>0.003356</td>\n",
              "      <td>0</td>\n",
              "      <td>r</td>\n",
              "    </tr>\n",
              "    <tr>\n",
              "      <th>30</th>\n",
              "      <td>0.684337</td>\n",
              "      <td>0.087724</td>\n",
              "      <td>0.001841</td>\n",
              "      <td>0.000000</td>\n",
              "      <td>0.003356</td>\n",
              "      <td>1</td>\n",
              "      <td>g</td>\n",
              "    </tr>\n",
              "    <tr>\n",
              "      <th>31</th>\n",
              "      <td>0.513888</td>\n",
              "      <td>0.000175</td>\n",
              "      <td>0.001841</td>\n",
              "      <td>0.003497</td>\n",
              "      <td>0.003356</td>\n",
              "      <td>1</td>\n",
              "      <td>g</td>\n",
              "    </tr>\n",
              "    <tr>\n",
              "      <th>32</th>\n",
              "      <td>0.684337</td>\n",
              "      <td>0.904682</td>\n",
              "      <td>0.000921</td>\n",
              "      <td>0.006993</td>\n",
              "      <td>0.000000</td>\n",
              "      <td>0</td>\n",
              "      <td>r</td>\n",
              "    </tr>\n",
              "    <tr>\n",
              "      <th>33</th>\n",
              "      <td>0.000000</td>\n",
              "      <td>0.877599</td>\n",
              "      <td>0.000000</td>\n",
              "      <td>0.000000</td>\n",
              "      <td>0.000000</td>\n",
              "      <td>0</td>\n",
              "      <td>r</td>\n",
              "    </tr>\n",
              "  </tbody>\n",
              "</table>\n",
              "</div>"
            ],
            "text/plain": [
              "         Lat      long  Dikonfirmasi    Sembuh  Meninggal Dunia  cluster color\n",
              "0   1.000000  0.685145      0.001841  0.013986         0.003356        0     r\n",
              "1   0.684337  0.757309      1.000000  1.000000         1.000000        0     r\n",
              "2   0.219438  0.762984      0.231666  0.262238         0.228188        0     r\n",
              "3   0.196876  0.799976      0.184719  0.353147         0.194631        0     r\n",
              "4   0.215955  0.783115      0.137465  0.178322         0.147651        0     r\n",
              "5   0.339075  0.077231      0.114452  0.255245         0.100671        1     g\n",
              "6   0.684337  0.752533      0.104326  0.059441         0.117450        0     r\n",
              "7   0.118949  0.817324      0.045720  0.146853         0.010067        0     r\n",
              "8   0.509619  1.000000      0.035901  0.097902         0.020134        0     r\n",
              "9   0.684337  0.831408      0.029764  0.031469         0.020134        0     r\n",
              "10  0.107173  0.823890      0.028230  0.038462         0.013423        0     r\n",
              "11  0.483251  0.742542      0.027002  0.017483         0.010067        0     r\n",
              "12  0.926172  0.698973      0.025468  0.045455         0.030201        0     r\n",
              "13  0.754637  0.737337      0.024547  0.027972         0.026846        0     r\n",
              "14  0.870917  0.075804      0.023320  0.006993         0.003356        1     g\n",
              "15  0.684337  0.711133      0.023013  0.045455         0.023490        0     r\n",
              "16  0.160125  0.782784      0.021786  0.104895         0.023490        0     r\n",
              "17  0.599263  0.000000      0.020558  0.038462         0.003356        1     g\n",
              "18  0.669475  0.808121      0.020252  0.031469         0.013423        0     r\n",
              "19  0.417279  0.000407      0.011046  0.013986         0.006711        1     g\n",
              "20  0.684337  0.064338      0.010433  0.031469         0.013423        1     g\n",
              "21  0.684337  0.077560      0.007978  0.010490         0.010067        1     g\n",
              "22  0.352963  0.744394      0.007978  0.034965         0.016779        0     r\n",
              "23  0.684337  0.775349      0.007978  0.024476         0.010067        0     r\n",
              "24  0.694253  0.886519      0.005830  0.017483         0.010067        0     r\n",
              "25  0.438625  0.910523      0.004909  0.034965         0.000000        0     r\n",
              "26  0.576096  0.734304      0.003682  0.003497         0.000000        0     r\n",
              "27  0.540909  0.752292      0.002148  0.006993         0.003356        0     r\n",
              "28  0.429603  0.724693      0.002148  0.003497         0.003356        0     r\n",
              "29  0.684337  0.869349      0.001841  0.000000         0.003356        0     r\n",
              "30  0.684337  0.087724      0.001841  0.000000         0.003356        1     g\n",
              "31  0.513888  0.000175      0.001841  0.003497         0.003356        1     g\n",
              "32  0.684337  0.904682      0.000921  0.006993         0.000000        0     r\n",
              "33  0.000000  0.877599      0.000000  0.000000         0.000000        0     r"
            ]
          },
          "metadata": {
            "tags": []
          },
          "execution_count": 14
        }
      ]
    },
    {
      "cell_type": "code",
      "metadata": {
        "id": "0n2DbuxgqggB",
        "colab_type": "code",
        "colab": {
          "base_uri": "https://localhost:8080/",
          "height": 336
        },
        "outputId": "32ed9ba6-9615-4069-b41c-dbd98cf88a27"
      },
      "source": [
        "fig = plt.figure(figsize=(5,5))\n",
        "plt.scatter(df2['long'], df2['Lat'], color =df2['color'])\n",
        "plt.title('K-Means Clustering with 2 cluster')\n",
        "plt.xlim(-0.25,1.25) \n",
        "plt.ylim(-0.25,1.25)\n",
        "plt.show()"
      ],
      "execution_count": null,
      "outputs": [
        {
          "output_type": "display_data",
          "data": {
            "image/png": "[encoded data removed]",
            "text/plain": [
              "<Figure size 360x360 with 1 Axes>"
            ]
          },
          "metadata": {
            "tags": [],
            "needs_background": "light"
          }
        }
      ]
    },
    {
      "cell_type": "code",
      "metadata": {
        "id": "iuzO9SD_sBZE",
        "colab_type": "code",
        "colab": {
          "base_uri": "https://localhost:8080/",
          "height": 68
        },
        "outputId": "a7283a6d-c186-451d-de95-0677dcf0ce68"
      },
      "source": [
        "df2['cluster'].value_counts()"
      ],
      "execution_count": null,
      "outputs": [
        {
          "output_type": "execute_result",
          "data": {
            "text/plain": [
              "0    26\n",
              "1     8\n",
              "Name: cluster, dtype: int64"
            ]
          },
          "metadata": {
            "tags": []
          },
          "execution_count": 16
        }
      ]
    },
    {
      "cell_type": "code",
      "metadata": {
        "id": "rAjSATPusdWM",
        "colab_type": "code",
        "colab": {}
      },
      "source": [
        "df2.drop(df2.columns[df2.columns.str.contains('color',case = False)],axis = 1, inplace = True)"
      ],
      "execution_count": null,
      "outputs": []
    },
    {
      "cell_type": "code",
      "metadata": {
        "id": "FXx793CtsN0t",
        "colab_type": "code",
        "colab": {
          "base_uri": "https://localhost:8080/",
          "height": 34
        },
        "outputId": "35d36c4b-e60a-4ea1-98b9-6a02a9d16b03"
      },
      "source": [
        "silhouette_avg = metrics.silhouette_score(df2, df2['cluster'])\n",
        "print ('silhouette coefficient for the clustering above = ', silhouette_avg)"
      ],
      "execution_count": null,
      "outputs": [
        {
          "output_type": "stream",
          "text": [
            "silhouette coefficient for the clustering above =  0.6914937806728719\n"
          ],
          "name": "stdout"
        }
      ]
    },
    {
      "cell_type": "code",
      "metadata": {
        "id": "rVDxfgLeAhlb",
        "colab_type": "code",
        "colab": {}
      },
      "source": [
        ""
      ],
      "execution_count": null,
      "outputs": []
    }
  ]
}